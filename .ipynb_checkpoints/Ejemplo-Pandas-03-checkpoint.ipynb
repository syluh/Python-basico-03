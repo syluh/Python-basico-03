{
 "cells": [
  {
   "cell_type": "code",
   "execution_count": 1,
   "metadata": {},
   "outputs": [],
   "source": [
    "import pandas as pd\n"
   ]
  },
  {
   "cell_type": "code",
   "execution_count": 2,
   "metadata": {},
   "outputs": [
    {
     "name": "stdout",
     "output_type": "stream",
     "text": [
      " El volumen de la unidad C no tiene etiqueta.\n",
      " El n£mero de serie del volumen es: 4033-DB84\n",
      "\n",
      " Directorio de C:\\Users\\VICTOR\\Documents\\Python ejemplos\\Python-basico-03\n",
      "\n",
      "13/03/2022  08:36    <DIR>          .\n",
      "13/03/2022  08:36    <DIR>          ..\n",
      "12/03/2022  18:51    <DIR>          .ipynb_checkpoints\n",
      "13/03/2022  07:49    <DIR>          data\n",
      "13/03/2022  08:34    <DIR>          data2\n",
      "13/03/2022  07:58            43.958 Ejemplo-Pandas-01.ipynb\n",
      "13/03/2022  08:35            56.061 Ejemplo-Pandas-02.ipynb\n",
      "13/03/2022  08:36             3.644 Ejemplo-Pandas-03.ipynb\n",
      "12/03/2022  18:51    <DIR>          images\n",
      "12/03/2022  18:51             1.391 README.md\n",
      "               4 archivos        105.054 bytes\n",
      "               6 dirs  97.825.869.824 bytes libres\n"
     ]
    }
   ],
   "source": [
    "ls"
   ]
  },
  {
   "cell_type": "code",
   "execution_count": 3,
   "metadata": {},
   "outputs": [
    {
     "name": "stderr",
     "output_type": "stream",
     "text": [
      "El modificador no es v lido: \"\".\n"
     ]
    }
   ],
   "source": [
    "ls data2/"
   ]
  },
  {
   "cell_type": "code",
   "execution_count": 4,
   "metadata": {},
   "outputs": [],
   "source": [
    "# Antes de ejecutar esta línea de código, explorar el archivo a través de un editor de texto\n",
    "# leer el archivo json, a través de read_json\n",
    "\n",
    "datos1 = pd.read_json(\"data2/instituciones_7.json\")\n",
    "datos2 = pd.read_json(\"data2/instituciones_11.json\")\n",
    "datos3 = pd.read_json(\"data2/instituciones_19.json\")\n"
   ]
  },
  {
   "cell_type": "code",
   "execution_count": 5,
   "metadata": {},
   "outputs": [
    {
     "name": "stdout",
     "output_type": "stream",
     "text": [
      "Index(['AMIE', 'Nombre_Institucion', 'Codigo_Provincia', 'Provincia',\n",
      "       'Codigo_Canton', 'Canton', 'Codigo_Parroquia', 'Parroquia',\n",
      "       'Zona_Administrativa', 'Denominacion_Distrito', 'Codigo_Distrito',\n",
      "       'Codigo_Circuito_Educativo', 'Unidad_Administrativa_Circuital',\n",
      "       'Casos_excepcionales', 'Sostenimiento', 'Regimen_Escolar',\n",
      "       'Jurisdiccion', 'Tipo_de_Educacion', 'Modalidad', 'Jornada', 'Nivel',\n",
      "       'Etnia', 'Nacionalidad', 'Pueblo', 'Georeferencia',\n",
      "       'Institucion_responsable', 'Tipo_Acceso', 'Numero_de_estudiantes',\n",
      "       'Numero_de_docentes', 'Estado'],\n",
      "      dtype='object')\n"
     ]
    }
   ],
   "source": [
    "# Ejecutar la línea de código\n",
    "print(datos1.keys())"
   ]
  },
  {
   "cell_type": "code",
   "execution_count": 6,
   "metadata": {},
   "outputs": [
    {
     "name": "stdout",
     "output_type": "stream",
     "text": [
      "Index(['AMIE', 'Nombre_Institucion', 'Codigo_Provincia', 'Provincia',\n",
      "       'Codigo_Canton', 'Canton', 'Codigo_Parroquia', 'Parroquia',\n",
      "       'Zona_Administrativa', 'Denominacion_Distrito', 'Codigo_Distrito',\n",
      "       'Codigo_Circuito_Educativo', 'Unidad_Administrativa_Circuital',\n",
      "       'Casos_excepcionales', 'Sostenimiento', 'Regimen_Escolar',\n",
      "       'Jurisdiccion', 'Tipo_de_Educacion', 'Modalidad', 'Jornada', 'Nivel',\n",
      "       'Etnia', 'Nacionalidad', 'Pueblo', 'Georeferencia',\n",
      "       'Institucion_responsable', 'Tipo_Acceso', 'Numero_de_estudiantes',\n",
      "       'Numero_de_docentes', 'Estado'],\n",
      "      dtype='object')\n"
     ]
    }
   ],
   "source": [
    "# Ejecutar la línea de código\n",
    "print(datos2.keys())"
   ]
  },
  {
   "cell_type": "code",
   "execution_count": 7,
   "metadata": {},
   "outputs": [
    {
     "name": "stdout",
     "output_type": "stream",
     "text": [
      "Index(['AMIE', 'Nombre_Institucion', 'Codigo_Provincia', 'Provincia',\n",
      "       'Codigo_Canton', 'Canton', 'Codigo_Parroquia', 'Parroquia',\n",
      "       'Zona_Administrativa', 'Denominacion_Distrito', 'Codigo_Distrito',\n",
      "       'Codigo_Circuito_Educativo', 'Unidad_Administrativa_Circuital',\n",
      "       'Casos_excepcionales', 'Sostenimiento', 'Regimen_Escolar',\n",
      "       'Jurisdiccion', 'Tipo_de_Educacion', 'Modalidad', 'Jornada', 'Nivel',\n",
      "       'Etnia', 'Nacionalidad', 'Pueblo', 'Georeferencia',\n",
      "       'Institucion_responsable', 'Tipo_Acceso', 'Numero_de_estudiantes',\n",
      "       'Numero_de_docentes', 'Estado'],\n",
      "      dtype='object')\n"
     ]
    }
   ],
   "source": [
    "# Ejecutar la línea de código\n",
    "\n",
    "print(datos3.keys())"
   ]
  },
  {
   "cell_type": "code",
   "execution_count": null,
   "metadata": {},
   "outputs": [],
   "source": [
    "# Analice las salidas anteriores"
   ]
  },
  {
   "cell_type": "markdown",
   "metadata": {},
   "source": [
    "## Retos"
   ]
  },
  {
   "cell_type": "code",
   "execution_count": 12,
   "metadata": {},
   "outputs": [],
   "source": [
    "# Ejecutar la siguiente línea de código\n",
    "lista_dataframes = [datos1, datos2, datos3]"
   ]
  },
  {
   "cell_type": "code",
   "execution_count": 13,
   "metadata": {},
   "outputs": [],
   "source": [
    "# Usar la función concat de pandas, \n",
    "# el objetivo es unir los dataframes (datos1, datos2 y datos3) en un solo dataframe\n",
    "dataframe_final = pd.concat(lista_dataframes)"
   ]
  },
  {
   "cell_type": "code",
   "execution_count": 14,
   "metadata": {},
   "outputs": [
    {
     "data": {
      "text/plain": [
       "(2947, 30)"
      ]
     },
     "execution_count": 14,
     "metadata": {},
     "output_type": "execute_result"
    }
   ],
   "source": [
    "dataframe_final.shape"
   ]
  },
  {
   "cell_type": "code",
   "execution_count": 16,
   "metadata": {
    "scrolled": true
   },
   "outputs": [
    {
     "data": {
      "text/html": [
       "<div>\n",
       "<style scoped>\n",
       "    .dataframe tbody tr th:only-of-type {\n",
       "        vertical-align: middle;\n",
       "    }\n",
       "\n",
       "    .dataframe tbody tr th {\n",
       "        vertical-align: top;\n",
       "    }\n",
       "\n",
       "    .dataframe thead th {\n",
       "        text-align: right;\n",
       "    }\n",
       "</style>\n",
       "<table border=\"1\" class=\"dataframe\">\n",
       "  <thead>\n",
       "    <tr style=\"text-align: right;\">\n",
       "      <th></th>\n",
       "      <th>AMIE</th>\n",
       "      <th>Nombre_Institucion</th>\n",
       "      <th>Codigo_Provincia</th>\n",
       "      <th>Provincia</th>\n",
       "      <th>Codigo_Canton</th>\n",
       "      <th>Canton</th>\n",
       "      <th>Codigo_Parroquia</th>\n",
       "      <th>Parroquia</th>\n",
       "      <th>Zona_Administrativa</th>\n",
       "      <th>Denominacion_Distrito</th>\n",
       "      <th>...</th>\n",
       "      <th>Nivel</th>\n",
       "      <th>Etnia</th>\n",
       "      <th>Nacionalidad</th>\n",
       "      <th>Pueblo</th>\n",
       "      <th>Georeferencia</th>\n",
       "      <th>Institucion_responsable</th>\n",
       "      <th>Tipo_Acceso</th>\n",
       "      <th>Numero_de_estudiantes</th>\n",
       "      <th>Numero_de_docentes</th>\n",
       "      <th>Estado</th>\n",
       "    </tr>\n",
       "  </thead>\n",
       "  <tbody>\n",
       "    <tr>\n",
       "      <th>0</th>\n",
       "      <td>07H00408</td>\n",
       "      <td>BATALLON CAYAMBE NÚMERO 3</td>\n",
       "      <td>7</td>\n",
       "      <td>EL ORO</td>\n",
       "      <td>702</td>\n",
       "      <td>ARENILLAS</td>\n",
       "      <td>70250</td>\n",
       "      <td>ARENILLAS</td>\n",
       "      <td>Zona 7</td>\n",
       "      <td>ARENILLAS – LAS LAJAS – HUAQUILLAS</td>\n",
       "      <td>...</td>\n",
       "      <td>Educación Básica</td>\n",
       "      <td>Mestiza</td>\n",
       "      <td>No aplica</td>\n",
       "      <td>No Aplica</td>\n",
       "      <td>NO</td>\n",
       "      <td>1.0</td>\n",
       "      <td>Terrestre</td>\n",
       "      <td>163</td>\n",
       "      <td>13</td>\n",
       "      <td>Activa</td>\n",
       "    </tr>\n",
       "    <tr>\n",
       "      <th>1</th>\n",
       "      <td>07H00419</td>\n",
       "      <td>CORAZON DE JESUS</td>\n",
       "      <td>7</td>\n",
       "      <td>EL ORO</td>\n",
       "      <td>702</td>\n",
       "      <td>ARENILLAS</td>\n",
       "      <td>70250</td>\n",
       "      <td>ARENILLAS</td>\n",
       "      <td>Zona 7</td>\n",
       "      <td>ARENILLAS – LAS LAJAS – HUAQUILLAS</td>\n",
       "      <td>...</td>\n",
       "      <td>Bachillerato</td>\n",
       "      <td>Mestiza</td>\n",
       "      <td>No aplica</td>\n",
       "      <td>No Aplica</td>\n",
       "      <td>NO</td>\n",
       "      <td>1.0</td>\n",
       "      <td>Terrestre</td>\n",
       "      <td>33</td>\n",
       "      <td>11</td>\n",
       "      <td>Activa</td>\n",
       "    </tr>\n",
       "    <tr>\n",
       "      <th>2</th>\n",
       "      <td>07H00404</td>\n",
       "      <td>ONCE DE NOVIEMBRE</td>\n",
       "      <td>7</td>\n",
       "      <td>EL ORO</td>\n",
       "      <td>702</td>\n",
       "      <td>ARENILLAS</td>\n",
       "      <td>70250</td>\n",
       "      <td>ARENILLAS</td>\n",
       "      <td>Zona 7</td>\n",
       "      <td>ARENILLAS – LAS LAJAS – HUAQUILLAS</td>\n",
       "      <td>...</td>\n",
       "      <td>Educación Básica</td>\n",
       "      <td>Mestiza</td>\n",
       "      <td>No aplica</td>\n",
       "      <td>No Aplica</td>\n",
       "      <td>SI</td>\n",
       "      <td>3.0</td>\n",
       "      <td>Terrestre</td>\n",
       "      <td>325</td>\n",
       "      <td>19</td>\n",
       "      <td>Activa</td>\n",
       "    </tr>\n",
       "    <tr>\n",
       "      <th>3</th>\n",
       "      <td>07H00412</td>\n",
       "      <td>ASAAD BUCARAM</td>\n",
       "      <td>7</td>\n",
       "      <td>EL ORO</td>\n",
       "      <td>702</td>\n",
       "      <td>ARENILLAS</td>\n",
       "      <td>70250</td>\n",
       "      <td>ARENILLAS</td>\n",
       "      <td>Zona 7</td>\n",
       "      <td>ARENILLAS – LAS LAJAS – HUAQUILLAS</td>\n",
       "      <td>...</td>\n",
       "      <td>Educación Básica y Bachillerato</td>\n",
       "      <td>Mestiza</td>\n",
       "      <td>No aplica</td>\n",
       "      <td>No Aplica</td>\n",
       "      <td>SI</td>\n",
       "      <td>3.0</td>\n",
       "      <td>Terrestre</td>\n",
       "      <td>118</td>\n",
       "      <td>20</td>\n",
       "      <td>Activa</td>\n",
       "    </tr>\n",
       "    <tr>\n",
       "      <th>4</th>\n",
       "      <td>07H01432</td>\n",
       "      <td>BIMOT 1  CONSTITUCIÓN</td>\n",
       "      <td>7</td>\n",
       "      <td>EL ORO</td>\n",
       "      <td>702</td>\n",
       "      <td>ARENILLAS</td>\n",
       "      <td>70250</td>\n",
       "      <td>ARENILLAS</td>\n",
       "      <td>Zona 7</td>\n",
       "      <td>ARENILLAS – LAS LAJAS – HUAQUILLAS</td>\n",
       "      <td>...</td>\n",
       "      <td>Educación Básica y Alfabetización P.P.</td>\n",
       "      <td>Mestiza</td>\n",
       "      <td>No aplica</td>\n",
       "      <td>No Aplica</td>\n",
       "      <td>SI</td>\n",
       "      <td>3.0</td>\n",
       "      <td>Terrestre</td>\n",
       "      <td>18</td>\n",
       "      <td>1</td>\n",
       "      <td>Activa</td>\n",
       "    </tr>\n",
       "  </tbody>\n",
       "</table>\n",
       "<p>5 rows × 30 columns</p>\n",
       "</div>"
      ],
      "text/plain": [
       "       AMIE         Nombre_Institucion  Codigo_Provincia Provincia  \\\n",
       "0  07H00408  BATALLON CAYAMBE NÚMERO 3                 7    EL ORO   \n",
       "1  07H00419           CORAZON DE JESUS                 7    EL ORO   \n",
       "2  07H00404          ONCE DE NOVIEMBRE                 7    EL ORO   \n",
       "3  07H00412              ASAAD BUCARAM                 7    EL ORO   \n",
       "4  07H01432      BIMOT 1  CONSTITUCIÓN                 7    EL ORO   \n",
       "\n",
       "   Codigo_Canton     Canton  Codigo_Parroquia  Parroquia Zona_Administrativa  \\\n",
       "0            702  ARENILLAS             70250  ARENILLAS              Zona 7   \n",
       "1            702  ARENILLAS             70250  ARENILLAS              Zona 7   \n",
       "2            702  ARENILLAS             70250  ARENILLAS              Zona 7   \n",
       "3            702  ARENILLAS             70250  ARENILLAS              Zona 7   \n",
       "4            702  ARENILLAS             70250  ARENILLAS              Zona 7   \n",
       "\n",
       "                Denominacion_Distrito  ...  \\\n",
       "0  ARENILLAS – LAS LAJAS – HUAQUILLAS  ...   \n",
       "1  ARENILLAS – LAS LAJAS – HUAQUILLAS  ...   \n",
       "2  ARENILLAS – LAS LAJAS – HUAQUILLAS  ...   \n",
       "3  ARENILLAS – LAS LAJAS – HUAQUILLAS  ...   \n",
       "4  ARENILLAS – LAS LAJAS – HUAQUILLAS  ...   \n",
       "\n",
       "                                    Nivel    Etnia Nacionalidad     Pueblo  \\\n",
       "0                        Educación Básica  Mestiza    No aplica  No Aplica   \n",
       "1                            Bachillerato  Mestiza    No aplica  No Aplica   \n",
       "2                        Educación Básica  Mestiza    No aplica  No Aplica   \n",
       "3         Educación Básica y Bachillerato  Mestiza    No aplica  No Aplica   \n",
       "4  Educación Básica y Alfabetización P.P.  Mestiza    No aplica  No Aplica   \n",
       "\n",
       "  Georeferencia Institucion_responsable Tipo_Acceso Numero_de_estudiantes  \\\n",
       "0            NO                     1.0   Terrestre                   163   \n",
       "1            NO                     1.0   Terrestre                    33   \n",
       "2            SI                     3.0   Terrestre                   325   \n",
       "3            SI                     3.0   Terrestre                   118   \n",
       "4            SI                     3.0   Terrestre                    18   \n",
       "\n",
       "  Numero_de_docentes  Estado  \n",
       "0                 13  Activa  \n",
       "1                 11  Activa  \n",
       "2                 19  Activa  \n",
       "3                 20  Activa  \n",
       "4                  1  Activa  \n",
       "\n",
       "[5 rows x 30 columns]"
      ]
     },
     "execution_count": 16,
     "metadata": {},
     "output_type": "execute_result"
    }
   ],
   "source": [
    "dataframe_final.head(5)"
   ]
  },
  {
   "cell_type": "code",
   "execution_count": null,
   "metadata": {},
   "outputs": [],
   "source": [
    "# Generar un archivo .json que contenga únicamente las características:\n",
    "# Nombre_Institucion\n",
    "# Provincia \n",
    "# Sostenimiento\n",
    "# Jornada\n",
    "\n",
    "# El archivo debe tener el nombre: instituciones_0003.json, en la carpeta data2\n",
    "\n",
    "# usa la función .to_json\n",
    "# Ejemplo: \n",
    "# datos.to_json(\"data/instituciones.json\", indent=4, orient=\"records\")\n",
    "# Donde, datos es un dataframe, \n",
    "#        data/instituciones.json, es la ruta y el nombre del archivo"
   ]
  },
  {
   "cell_type": "code",
   "execution_count": 18,
   "metadata": {},
   "outputs": [],
   "source": [
    "dataextract = dataframe_final[['Nombre_Institucion','Provincia','Tipo_Acceso','Estado']]"
   ]
  },
  {
   "cell_type": "code",
   "execution_count": 22,
   "metadata": {},
   "outputs": [],
   "source": [
    "dataextract.to_json(\"data/instituciones.json\", indent=4, orient=\"records\")"
   ]
  },
  {
   "cell_type": "code",
   "execution_count": null,
   "metadata": {},
   "outputs": [],
   "source": []
  }
 ],
 "metadata": {
  "kernelspec": {
   "display_name": "Python 3 (ipykernel)",
   "language": "python",
   "name": "python3"
  },
  "language_info": {
   "codemirror_mode": {
    "name": "ipython",
    "version": 3
   },
   "file_extension": ".py",
   "mimetype": "text/x-python",
   "name": "python",
   "nbconvert_exporter": "python",
   "pygments_lexer": "ipython3",
   "version": "3.10.2"
  }
 },
 "nbformat": 4,
 "nbformat_minor": 1
}
